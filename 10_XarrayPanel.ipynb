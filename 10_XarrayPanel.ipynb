{
 "cells": [
  {
   "cell_type": "markdown",
   "metadata": {},
   "source": [
    "## Intro to the Xarray Module - Fetch Panel Dataset from Google - Dimensions\n",
    "This panel object has been deprecated. Recommended to use Xarray instead.\n",
    "\n",
    "A Panel object is a three-dimensional datastructure. We now need 3 points of reference in order to locate any specific value inside a panel object. It's a box of DFs. Need what the DF is, the row and column intersection in order to extract a single value."
   ]
  },
  {
   "cell_type": "markdown",
   "metadata": {},
   "source": [
    "### Dimensions refresher\n",
    "Vending machine. One column of choices (5 sodas). If a person wants a soda, they just need to provide one point of reference, e.g., \"I want the soda that's in row position 2.\" -- This is like a SERIES - just need to row label or the row number.\n",
    "\n",
    "DATAFRAMES vending machine is the clear kind where you see all the drinks lined up in rows and columns. I want the soda in row 2 is NOT ENOUGH. We could have 10 different choices in that row (or column). Therefore, they must provide TWO points of reference that we know exactly what they want. This is a two-dimensional object. Need to give Row AND Column.\n",
    "\n",
    "PANEL is one step up. It is a three-dimensional object so we need to provide three points of reference.\n",
    "\n"
   ]
  },
  {
   "cell_type": "code",
   "execution_count": 26,
   "metadata": {},
   "outputs": [],
   "source": [
    "import pandas as pd\n",
    "import pandas_datareader.data as web\n",
    "import xarray as xr"
   ]
  },
  {
   "cell_type": "code",
   "execution_count": 29,
   "metadata": {},
   "outputs": [
    {
     "data": {
      "text/html": [
       "<div>\n",
       "<style scoped>\n",
       "    .dataframe tbody tr th:only-of-type {\n",
       "        vertical-align: middle;\n",
       "    }\n",
       "\n",
       "    .dataframe tbody tr th {\n",
       "        vertical-align: top;\n",
       "    }\n",
       "\n",
       "    .dataframe thead th {\n",
       "        text-align: right;\n",
       "    }\n",
       "</style>\n",
       "<table border=\"1\" class=\"dataframe\">\n",
       "  <thead>\n",
       "    <tr style=\"text-align: right;\">\n",
       "      <th></th>\n",
       "      <th></th>\n",
       "      <th>Close</th>\n",
       "      <th>High</th>\n",
       "      <th>Low</th>\n",
       "      <th>Open</th>\n",
       "      <th>Volume</th>\n",
       "    </tr>\n",
       "    <tr>\n",
       "      <th>Symbol</th>\n",
       "      <th>Date</th>\n",
       "      <th></th>\n",
       "      <th></th>\n",
       "      <th></th>\n",
       "      <th></th>\n",
       "      <th></th>\n",
       "    </tr>\n",
       "  </thead>\n",
       "  <tbody>\n",
       "    <tr>\n",
       "      <th rowspan=\"5\" valign=\"top\">TCEHY</th>\n",
       "      <th>2010-01-01</th>\n",
       "      <td>4.344</td>\n",
       "      <td>4.366</td>\n",
       "      <td>4.320</td>\n",
       "      <td>4.320</td>\n",
       "      <td>0</td>\n",
       "    </tr>\n",
       "    <tr>\n",
       "      <th>2010-01-04</th>\n",
       "      <td>4.416</td>\n",
       "      <td>4.416</td>\n",
       "      <td>4.366</td>\n",
       "      <td>4.366</td>\n",
       "      <td>61480</td>\n",
       "    </tr>\n",
       "    <tr>\n",
       "      <th>2010-01-05</th>\n",
       "      <td>4.452</td>\n",
       "      <td>4.480</td>\n",
       "      <td>4.410</td>\n",
       "      <td>4.474</td>\n",
       "      <td>75690</td>\n",
       "    </tr>\n",
       "    <tr>\n",
       "      <th>2010-01-06</th>\n",
       "      <td>4.482</td>\n",
       "      <td>4.482</td>\n",
       "      <td>4.470</td>\n",
       "      <td>4.480</td>\n",
       "      <td>56010</td>\n",
       "    </tr>\n",
       "    <tr>\n",
       "      <th>2010-01-07</th>\n",
       "      <td>4.300</td>\n",
       "      <td>4.300</td>\n",
       "      <td>4.254</td>\n",
       "      <td>4.298</td>\n",
       "      <td>49355</td>\n",
       "    </tr>\n",
       "  </tbody>\n",
       "</table>\n",
       "</div>"
      ],
      "text/plain": [
       "                   Close   High    Low   Open  Volume\n",
       "Symbol Date                                          \n",
       "TCEHY  2010-01-01  4.344  4.366  4.320  4.320       0\n",
       "       2010-01-04  4.416  4.416  4.366  4.366   61480\n",
       "       2010-01-05  4.452  4.480  4.410  4.474   75690\n",
       "       2010-01-06  4.482  4.482  4.470  4.480   56010\n",
       "       2010-01-07  4.300  4.300  4.254  4.298   49355"
      ]
     },
     "execution_count": 29,
     "metadata": {},
     "output_type": "execute_result"
    }
   ],
   "source": [
    "companies = [\"TCEHY\", \"BABA\", \"GOOG\", \"AAPL\", \"AMZN\"]\n",
    "\n",
    "p = web.DataReader(name = companies, data_source = \"morningstar\",\n",
    "               start = \"2010-01-01\", end = \"2016-12-31\")\n",
    "\n",
    "p.head()  # Returns standard DF"
   ]
  },
  {
   "cell_type": "code",
   "execution_count": 11,
   "metadata": {},
   "outputs": [
    {
     "data": {
      "text/plain": [
       "pandas.core.frame.DataFrame"
      ]
     },
     "execution_count": 11,
     "metadata": {},
     "output_type": "execute_result"
    }
   ],
   "source": [
    "type(p)"
   ]
  },
  {
   "cell_type": "code",
   "execution_count": 39,
   "metadata": {},
   "outputs": [
    {
     "data": {
      "text/plain": [
       "<xarray.Dataset>\n",
       "Dimensions:  (Date: 1826, Symbol: 5)\n",
       "Coordinates:\n",
       "  * Symbol   (Symbol) object 'AAPL' 'AMZN' 'BABA' 'GOOG' 'TCEHY'\n",
       "  * Date     (Date) datetime64[ns] 2010-01-01 2010-01-04 2010-01-05 ...\n",
       "Data variables:\n",
       "    Close    (Symbol, Date) float64 30.1 30.57 30.63 30.14 30.08 30.28 30.02 ...\n",
       "    High     (Symbol, Date) float64 30.48 30.64 30.8 30.75 30.29 30.29 30.43 ...\n",
       "    Low      (Symbol, Date) float64 30.08 30.34 30.46 30.11 29.86 29.87 ...\n",
       "    Open     (Symbol, Date) float64 30.44 30.5 30.68 30.63 30.24 30.06 30.42 ...\n",
       "    Volume   (Symbol, Date) float64 0.0 1.234e+08 1.505e+08 1.38e+08 ..."
      ]
     },
     "execution_count": 39,
     "metadata": {},
     "output_type": "execute_result"
    }
   ],
   "source": [
    "# Need to run p = p.to_xarray() to convert DF to XR\n",
    "# We basically have 5 DFs or Datasets (XR term). \n",
    "# HOw to find out values? \n",
    "p"
   ]
  },
  {
   "cell_type": "code",
   "execution_count": 46,
   "metadata": {},
   "outputs": [
    {
     "data": {
      "text/plain": [
       "<bound method Mapping.items of <xarray.Dataset>\n",
       "Dimensions:  (Date: 1826, Symbol: 5)\n",
       "Coordinates:\n",
       "  * Symbol   (Symbol) object 'AAPL' 'AMZN' 'BABA' 'GOOG' 'TCEHY'\n",
       "  * Date     (Date) datetime64[ns] 2010-01-01 2010-01-04 2010-01-05 ...\n",
       "Data variables:\n",
       "    Close    (Symbol, Date) float64 30.1 30.57 30.63 30.14 30.08 30.28 30.02 ...\n",
       "    High     (Symbol, Date) float64 30.48 30.64 30.8 30.75 30.29 30.29 30.43 ...\n",
       "    Low      (Symbol, Date) float64 30.08 30.34 30.46 30.11 29.86 29.87 ...\n",
       "    Open     (Symbol, Date) float64 30.44 30.5 30.68 30.63 30.24 30.06 30.42 ...\n",
       "    Volume   (Symbol, Date) float64 0.0 1.234e+08 1.505e+08 1.38e+08 ...>"
      ]
     },
     "execution_count": 46,
     "metadata": {},
     "output_type": "execute_result"
    }
   ],
   "source": [
    "p.items  # The Data variables (items axis) are 5 DFs/Datasets in the Xarray"
   ]
  },
  {
   "cell_type": "code",
   "execution_count": 45,
   "metadata": {},
   "outputs": [
    {
     "data": {
      "text/plain": [
       "<xarray.DataArray 'Date' (Date: 1826)>\n",
       "array(['2010-01-01T00:00:00.000000000', '2010-01-04T00:00:00.000000000',\n",
       "       '2010-01-05T00:00:00.000000000', ..., '2016-12-28T00:00:00.000000000',\n",
       "       '2016-12-29T00:00:00.000000000', '2016-12-30T00:00:00.000000000'],\n",
       "      dtype='datetime64[ns]')\n",
       "Coordinates:\n",
       "  * Date     (Date) datetime64[ns] 2010-01-01 2010-01-04 2010-01-05 ..."
      ]
     },
     "execution_count": 45,
     "metadata": {},
     "output_type": "execute_result"
    }
   ],
   "source": [
    "# Want to pull out the list of all the dates\n",
    "p.Date  # Returns the rows for the Date DF/Dataset"
   ]
  },
  {
   "cell_type": "code",
   "execution_count": 43,
   "metadata": {},
   "outputs": [
    {
     "data": {
      "text/plain": [
       "<xarray.DataArray 'Symbol' (Symbol: 5)>\n",
       "array(['AAPL', 'AMZN', 'BABA', 'GOOG', 'TCEHY'], dtype=object)\n",
       "Coordinates:\n",
       "  * Symbol   (Symbol) object 'AAPL' 'AMZN' 'BABA' 'GOOG' 'TCEHY'"
      ]
     },
     "execution_count": 43,
     "metadata": {},
     "output_type": "execute_result"
    }
   ],
   "source": [
    "p.Symbol # These 5 companies are the columns"
   ]
  },
  {
   "cell_type": "code",
   "execution_count": 47,
   "metadata": {},
   "outputs": [
    {
     "data": {
      "text/plain": [
       "<xarray.DataArray 'Close' (Symbol: 5, Date: 1826)>\n",
       "array([[ 30.1046,  30.5729,  30.6257, ..., 116.76  , 116.73  , 115.82  ],\n",
       "       [134.52  , 133.9   , 134.69  , ..., 772.13  , 765.15  , 749.87  ],\n",
       "       [     nan,      nan,      nan, ...,  87.37  ,  87.33  ,  87.81  ],\n",
       "       [     nan,      nan,      nan, ..., 785.05  , 782.79  , 771.82  ],\n",
       "       [  4.344 ,   4.416 ,   4.452 , ...,  23.544 ,  24.36  ,  24.22  ]])\n",
       "Coordinates:\n",
       "  * Symbol   (Symbol) object 'AAPL' 'AMZN' 'BABA' 'GOOG' 'TCEHY'\n",
       "  * Date     (Date) datetime64[ns] 2010-01-01 2010-01-04 2010-01-05 ..."
      ]
     },
     "execution_count": 47,
     "metadata": {},
     "output_type": "execute_result"
    }
   ],
   "source": [
    "p.Close  # I think the .Close (part of Data variables) is the same as minor_axis"
   ]
  },
  {
   "cell_type": "code",
   "execution_count": 50,
   "metadata": {},
   "outputs": [
    {
     "data": {
      "text/plain": [
       "<bound method ImplementsDatasetReduce._reduce_method.<locals>.wrapped_func of <xarray.Dataset>\n",
       "Dimensions:  (Date: 1826, Symbol: 5)\n",
       "Coordinates:\n",
       "  * Symbol   (Symbol) object 'AAPL' 'AMZN' 'BABA' 'GOOG' 'TCEHY'\n",
       "  * Date     (Date) datetime64[ns] 2010-01-01 2010-01-04 2010-01-05 ...\n",
       "Data variables:\n",
       "    Close    (Symbol, Date) float64 30.1 30.57 30.63 30.14 30.08 30.28 30.02 ...\n",
       "    High     (Symbol, Date) float64 30.48 30.64 30.8 30.75 30.29 30.29 30.43 ...\n",
       "    Low      (Symbol, Date) float64 30.08 30.34 30.46 30.11 29.86 29.87 ...\n",
       "    Open     (Symbol, Date) float64 30.44 30.5 30.68 30.63 30.24 30.06 30.42 ...\n",
       "    Volume   (Symbol, Date) float64 0.0 1.234e+08 1.505e+08 1.38e+08 ...>"
      ]
     },
     "execution_count": 50,
     "metadata": {},
     "output_type": "execute_result"
    }
   ],
   "source": [
    "# Need 3 points of reference in order to pull a value Symbol, Date, Data (volume, open, etc.)\n",
    "p.all"
   ]
  },
  {
   "cell_type": "markdown",
   "metadata": {},
   "source": [
    "## Xarray Attributes\n",
    "p.indexes returns all of the axes/indices of the XR object with dates returned as a DateTimeIndex. Also have p.all, p.items, etc.\n",
    "\n",
    ".coords = Coordinates (Symbol & Date)\n",
    ".data_vars = Data variables (Close, High, Low, Open, Volume)\n",
    "\n",
    "What's the Xarray equivalent to p.axes? or ndim? Check out http://xarray.pydata.org/en/stable/api.html for details/attributes.\n",
    "\n",
    "Panels require 3 points of data: 1. Item - a DF, 2. A row label, 3. A column label. Have to test out xarray\n",
    "\n"
   ]
  },
  {
   "cell_type": "code",
   "execution_count": 51,
   "metadata": {},
   "outputs": [],
   "source": [
    "companies = [\"TCEHY\", \"BABA\", \"GOOG\", \"AAPL\", \"AMZN\"]\n",
    "\n",
    "p = web.DataReader(name = companies, data_source = \"morningstar\",\n",
    "               start = \"2010-01-01\", end = \"2016-12-31\")\n",
    "\n",
    "p.head()  # Returns standard DF\n",
    "p = p.to_xarray()"
   ]
  },
  {
   "cell_type": "code",
   "execution_count": 55,
   "metadata": {},
   "outputs": [
    {
     "data": {
      "text/plain": [
       "Symbol: Index(['AAPL', 'AMZN', 'BABA', 'GOOG', 'TCEHY'], dtype='object', name='Symbol')\n",
       "Date: DatetimeIndex(['2010-01-01', '2010-01-04', '2010-01-05', '2010-01-06',\n",
       "                     '2010-01-07', '2010-01-08', '2010-01-11', '2010-01-12',\n",
       "                     '2010-01-13', '2010-01-14',\n",
       "                     ...\n",
       "                     '2016-12-19', '2016-12-20', '2016-12-21', '2016-12-22',\n",
       "                     '2016-12-23', '2016-12-26', '2016-12-27', '2016-12-28',\n",
       "                     '2016-12-29', '2016-12-30'],\n",
       "                    dtype='datetime64[ns]', name='Date', length=1826, freq=None)"
      ]
     },
     "execution_count": 55,
     "metadata": {},
     "output_type": "execute_result"
    }
   ],
   "source": [
    "p.indexes"
   ]
  },
  {
   "cell_type": "code",
   "execution_count": 56,
   "metadata": {},
   "outputs": [
    {
     "data": {
      "text/plain": [
       "<bound method ImplementsDatasetReduce._reduce_method.<locals>.wrapped_func of <xarray.Dataset>\n",
       "Dimensions:  (Date: 1826, Symbol: 5)\n",
       "Coordinates:\n",
       "  * Symbol   (Symbol) object 'AAPL' 'AMZN' 'BABA' 'GOOG' 'TCEHY'\n",
       "  * Date     (Date) datetime64[ns] 2010-01-01 2010-01-04 2010-01-05 ...\n",
       "Data variables:\n",
       "    Close    (Symbol, Date) float64 30.1 30.57 30.63 30.14 30.08 30.28 30.02 ...\n",
       "    High     (Symbol, Date) float64 30.48 30.64 30.8 30.75 30.29 30.29 30.43 ...\n",
       "    Low      (Symbol, Date) float64 30.08 30.34 30.46 30.11 29.86 29.87 ...\n",
       "    Open     (Symbol, Date) float64 30.44 30.5 30.68 30.63 30.24 30.06 30.42 ...\n",
       "    Volume   (Symbol, Date) float64 0.0 1.234e+08 1.505e+08 1.38e+08 ...>"
      ]
     },
     "execution_count": 56,
     "metadata": {},
     "output_type": "execute_result"
    }
   ],
   "source": [
    "p.all"
   ]
  },
  {
   "cell_type": "code",
   "execution_count": 58,
   "metadata": {},
   "outputs": [
    {
     "data": {
      "text/plain": [
       "Data variables:\n",
       "    Close    (Symbol, Date) float64 30.1 30.57 30.63 30.14 30.08 30.28 30.02 ...\n",
       "    High     (Symbol, Date) float64 30.48 30.64 30.8 30.75 30.29 30.29 30.43 ...\n",
       "    Low      (Symbol, Date) float64 30.08 30.34 30.46 30.11 29.86 29.87 ...\n",
       "    Open     (Symbol, Date) float64 30.44 30.5 30.68 30.63 30.24 30.06 30.42 ...\n",
       "    Volume   (Symbol, Date) float64 0.0 1.234e+08 1.505e+08 1.38e+08 ..."
      ]
     },
     "execution_count": 58,
     "metadata": {},
     "output_type": "execute_result"
    }
   ],
   "source": [
    "p.data_vars"
   ]
  },
  {
   "cell_type": "code",
   "execution_count": 59,
   "metadata": {},
   "outputs": [
    {
     "data": {
      "text/plain": [
       "Coordinates:\n",
       "  * Symbol   (Symbol) object 'AAPL' 'AMZN' 'BABA' 'GOOG' 'TCEHY'\n",
       "  * Date     (Date) datetime64[ns] 2010-01-01 2010-01-04 2010-01-05 ..."
      ]
     },
     "execution_count": 59,
     "metadata": {},
     "output_type": "execute_result"
    }
   ],
   "source": [
    "p.coords "
   ]
  },
  {
   "cell_type": "code",
   "execution_count": 63,
   "metadata": {},
   "outputs": [
    {
     "data": {
      "text/plain": [
       "Frozen(SortedKeysDict({'Symbol': 5, 'Date': 1826}))"
      ]
     },
     "execution_count": 63,
     "metadata": {},
     "output_type": "execute_result"
    }
   ],
   "source": [
    "# .ndim -- number of dimensions in the panel\n",
    "# XR equiv? not sure\n",
    "p.dims  # SortedKeysDict??"
   ]
  },
  {
   "cell_type": "code",
   "execution_count": 65,
   "metadata": {},
   "outputs": [
    {
     "data": {
      "text/plain": [
       "<bound method Mapping.keys of <xarray.Dataset>\n",
       "Dimensions:  (Date: 1826, Symbol: 5)\n",
       "Coordinates:\n",
       "  * Symbol   (Symbol) object 'AAPL' 'AMZN' 'BABA' 'GOOG' 'TCEHY'\n",
       "  * Date     (Date) datetime64[ns] 2010-01-01 2010-01-04 2010-01-05 ...\n",
       "Data variables:\n",
       "    Close    (Symbol, Date) float64 30.1 30.57 30.63 30.14 30.08 30.28 30.02 ...\n",
       "    High     (Symbol, Date) float64 30.48 30.64 30.8 30.75 30.29 30.29 30.43 ...\n",
       "    Low      (Symbol, Date) float64 30.08 30.34 30.46 30.11 29.86 29.87 ...\n",
       "    Open     (Symbol, Date) float64 30.44 30.5 30.68 30.63 30.24 30.06 30.42 ...\n",
       "    Volume   (Symbol, Date) float64 0.0 1.234e+08 1.505e+08 1.38e+08 ...>"
      ]
     },
     "execution_count": 65,
     "metadata": {},
     "output_type": "execute_result"
    }
   ],
   "source": [
    "p.keys"
   ]
  },
  {
   "cell_type": "code",
   "execution_count": 68,
   "metadata": {},
   "outputs": [
    {
     "data": {
      "text/plain": [
       "<bound method Mapping.values of <xarray.Dataset>\n",
       "Dimensions:  (Date: 1826, Symbol: 5)\n",
       "Coordinates:\n",
       "  * Symbol   (Symbol) object 'AAPL' 'AMZN' 'BABA' 'GOOG' 'TCEHY'\n",
       "  * Date     (Date) datetime64[ns] 2010-01-01 2010-01-04 2010-01-05 ...\n",
       "Data variables:\n",
       "    Close    (Symbol, Date) float64 30.1 30.57 30.63 30.14 30.08 30.28 30.02 ...\n",
       "    High     (Symbol, Date) float64 30.48 30.64 30.8 30.75 30.29 30.29 30.43 ...\n",
       "    Low      (Symbol, Date) float64 30.08 30.34 30.46 30.11 29.86 29.87 ...\n",
       "    Open     (Symbol, Date) float64 30.44 30.5 30.68 30.63 30.24 30.06 30.42 ...\n",
       "    Volume   (Symbol, Date) float64 0.0 1.234e+08 1.505e+08 1.38e+08 ...>"
      ]
     },
     "execution_count": 68,
     "metadata": {},
     "output_type": "execute_result"
    }
   ],
   "source": [
    "p.values"
   ]
  },
  {
   "cell_type": "code",
   "execution_count": 69,
   "metadata": {},
   "outputs": [
    {
     "data": {
      "text/plain": [
       "<xarray.DataArray 'High' (Symbol: 5, Date: 1826)>\n",
       "array([[ 30.4786,  30.6429,  30.7986, ..., 118.0166, 117.1095, 117.2   ],\n",
       "       [137.28  , 136.61  , 135.479 , ..., 780.    , 773.4   , 767.3999],\n",
       "       [     nan,      nan,      nan, ...,  88.75  ,  88.2   ,  88.1   ],\n",
       "       [     nan,      nan,      nan, ..., 794.23  , 785.93  , 782.78  ],\n",
       "       [  4.366 ,   4.416 ,   4.48  , ...,  23.78  ,  24.43  ,  24.5   ]])\n",
       "Coordinates:\n",
       "  * Symbol   (Symbol) object 'AAPL' 'AMZN' 'BABA' 'GOOG' 'TCEHY'\n",
       "  * Date     (Date) datetime64[ns] 2010-01-01 2010-01-04 2010-01-05 ..."
      ]
     },
     "execution_count": 69,
     "metadata": {},
     "output_type": "execute_result"
    }
   ],
   "source": [
    "p.High"
   ]
  },
  {
   "cell_type": "code",
   "execution_count": 70,
   "metadata": {},
   "outputs": [
    {
     "data": {
      "text/plain": [
       "Frozen(SortedKeysDict({'Symbol': 5, 'Date': 1826}))"
      ]
     },
     "execution_count": 70,
     "metadata": {},
     "output_type": "execute_result"
    }
   ],
   "source": [
    "p.dims"
   ]
  },
  {
   "cell_type": "code",
   "execution_count": 71,
   "metadata": {},
   "outputs": [
    {
     "data": {
      "text/plain": [
       "OrderedDict()"
      ]
     },
     "execution_count": 71,
     "metadata": {},
     "output_type": "execute_result"
    }
   ],
   "source": [
    "p.attrs"
   ]
  },
  {
   "cell_type": "code",
   "execution_count": 72,
   "metadata": {},
   "outputs": [
    {
     "data": {
      "text/plain": [
       "array([[ 30.4786,  30.6429,  30.7986, ..., 118.0166, 117.1095, 117.2   ],\n",
       "       [137.28  , 136.61  , 135.479 , ..., 780.    , 773.4   , 767.3999],\n",
       "       [     nan,      nan,      nan, ...,  88.75  ,  88.2   ,  88.1   ],\n",
       "       [     nan,      nan,      nan, ..., 794.23  , 785.93  , 782.78  ],\n",
       "       [  4.366 ,   4.416 ,   4.48  , ...,  23.78  ,  24.43  ,  24.5   ]])"
      ]
     },
     "execution_count": 72,
     "metadata": {},
     "output_type": "execute_result"
    }
   ],
   "source": [
    "p.High.values"
   ]
  },
  {
   "cell_type": "code",
   "execution_count": 73,
   "metadata": {},
   "outputs": [
    {
     "data": {
      "text/plain": [
       "numpy.ndarray"
      ]
     },
     "execution_count": 73,
     "metadata": {},
     "output_type": "execute_result"
    }
   ],
   "source": [
    "type(p.High.values)"
   ]
  },
  {
   "cell_type": "code",
   "execution_count": 74,
   "metadata": {},
   "outputs": [
    {
     "data": {
      "text/plain": [
       "('Symbol', 'Date')"
      ]
     },
     "execution_count": 74,
     "metadata": {},
     "output_type": "execute_result"
    }
   ],
   "source": [
    "p.High.dims"
   ]
  },
  {
   "cell_type": "code",
   "execution_count": 75,
   "metadata": {},
   "outputs": [
    {
     "data": {
      "text/plain": [
       "OrderedDict()"
      ]
     },
     "execution_count": 75,
     "metadata": {},
     "output_type": "execute_result"
    }
   ],
   "source": [
    "p.Volume.attrs"
   ]
  },
  {
   "cell_type": "code",
   "execution_count": 78,
   "metadata": {},
   "outputs": [
    {
     "data": {
      "text/plain": [
       "OrderedDict()"
      ]
     },
     "execution_count": 78,
     "metadata": {},
     "output_type": "execute_result"
    }
   ],
   "source": [
    "p.Close.attrs"
   ]
  },
  {
   "cell_type": "code",
   "execution_count": 79,
   "metadata": {},
   "outputs": [
    {
     "data": {
      "text/plain": [
       "Frozen(SortedKeysDict({'Symbol': 5, 'Date': 1826}))"
      ]
     },
     "execution_count": 79,
     "metadata": {},
     "output_type": "execute_result"
    }
   ],
   "source": [
    "p.dims"
   ]
  },
  {
   "cell_type": "code",
   "execution_count": 82,
   "metadata": {},
   "outputs": [
    {
     "data": {
      "text/plain": [
       "Symbol: Index(['AAPL', 'AMZN', 'BABA', 'GOOG', 'TCEHY'], dtype='object', name='Symbol')\n",
       "Date: DatetimeIndex(['2010-01-01', '2010-01-04', '2010-01-05', '2010-01-06',\n",
       "                     '2010-01-07', '2010-01-08', '2010-01-11', '2010-01-12',\n",
       "                     '2010-01-13', '2010-01-14',\n",
       "                     ...\n",
       "                     '2016-12-19', '2016-12-20', '2016-12-21', '2016-12-22',\n",
       "                     '2016-12-23', '2016-12-26', '2016-12-27', '2016-12-28',\n",
       "                     '2016-12-29', '2016-12-30'],\n",
       "                    dtype='datetime64[ns]', name='Date', length=1826, freq=None)"
      ]
     },
     "execution_count": 82,
     "metadata": {},
     "output_type": "execute_result"
    }
   ],
   "source": [
    "p.indexes"
   ]
  },
  {
   "cell_type": "code",
   "execution_count": 83,
   "metadata": {},
   "outputs": [
    {
     "data": {
      "text/plain": [
       "<bound method Mapping.values of <xarray.Dataset>\n",
       "Dimensions:  (Date: 1826, Symbol: 5)\n",
       "Coordinates:\n",
       "  * Symbol   (Symbol) object 'AAPL' 'AMZN' 'BABA' 'GOOG' 'TCEHY'\n",
       "  * Date     (Date) datetime64[ns] 2010-01-01 2010-01-04 2010-01-05 ...\n",
       "Data variables:\n",
       "    Close    (Symbol, Date) float64 30.1 30.57 30.63 30.14 30.08 30.28 30.02 ...\n",
       "    High     (Symbol, Date) float64 30.48 30.64 30.8 30.75 30.29 30.29 30.43 ...\n",
       "    Low      (Symbol, Date) float64 30.08 30.34 30.46 30.11 29.86 29.87 ...\n",
       "    Open     (Symbol, Date) float64 30.44 30.5 30.68 30.63 30.24 30.06 30.42 ...\n",
       "    Volume   (Symbol, Date) float64 0.0 1.234e+08 1.505e+08 1.38e+08 ...>"
      ]
     },
     "execution_count": 83,
     "metadata": {},
     "output_type": "execute_result"
    }
   ],
   "source": [
    "p.values"
   ]
  },
  {
   "cell_type": "markdown",
   "metadata": {},
   "source": [
    "## Use bracket notation to extract a DataFrame (for Subsetting)\n",
    "**Important** Used to extract the next smallest object. In a series, we extract a value. In a DF, you use bracket notation to extract a column, which is a series/1D object.\n",
    "\n",
    "Same for panel/xarray - used to extract a DF/Dataset."
   ]
  },
  {
   "cell_type": "code",
   "execution_count": 86,
   "metadata": {},
   "outputs": [
    {
     "data": {
      "text/plain": [
       "Data variables:\n",
       "    Close    (Symbol, Date) float64 30.1 30.57 30.63 30.14 30.08 30.28 30.02 ...\n",
       "    High     (Symbol, Date) float64 30.48 30.64 30.8 30.75 30.29 30.29 30.43 ...\n",
       "    Low      (Symbol, Date) float64 30.08 30.34 30.46 30.11 29.86 29.87 ...\n",
       "    Open     (Symbol, Date) float64 30.44 30.5 30.68 30.63 30.24 30.06 30.42 ...\n",
       "    Volume   (Symbol, Date) float64 0.0 1.234e+08 1.505e+08 1.38e+08 ..."
      ]
     },
     "execution_count": 86,
     "metadata": {},
     "output_type": "execute_result"
    }
   ],
   "source": [
    "p.items\n",
    "p.data_vars"
   ]
  },
  {
   "cell_type": "code",
   "execution_count": 88,
   "metadata": {},
   "outputs": [
    {
     "data": {
      "text/plain": [
       "<xarray.DataArray 'Open' (Symbol: 5, Date: 1826)>\n",
       "array([[ 30.4443,  30.5   ,  30.6843, ..., 117.52  , 116.45  , 116.65  ],\n",
       "       [137.08  , 136.28  , 133.25  , ..., 776.25  , 772.4   , 766.47  ],\n",
       "       [     nan,      nan,      nan, ...,  88.3   ,  87.82  ,  87.57  ],\n",
       "       [     nan,      nan,      nan, ..., 793.7   , 783.33  , 782.75  ],\n",
       "       [  4.32  ,   4.366 ,   4.474 , ...,  23.65  ,  24.155 ,  24.5   ]])\n",
       "Coordinates:\n",
       "  * Symbol   (Symbol) object 'AAPL' 'AMZN' 'BABA' 'GOOG' 'TCEHY'\n",
       "  * Date     (Date) datetime64[ns] 2010-01-01 2010-01-04 2010-01-05 ..."
      ]
     },
     "execution_count": 88,
     "metadata": {},
     "output_type": "execute_result"
    }
   ],
   "source": [
    "p['Open']"
   ]
  },
  {
   "cell_type": "code",
   "execution_count": 90,
   "metadata": {},
   "outputs": [
    {
     "data": {
      "text/plain": [
       "<xarray.DataArray 'Open' (Symbol: 5, Date: 1826)>\n",
       "array([[ 30.4443,  30.5   ,  30.6843, ..., 117.52  , 116.45  , 116.65  ],\n",
       "       [137.08  , 136.28  , 133.25  , ..., 776.25  , 772.4   , 766.47  ],\n",
       "       [     nan,      nan,      nan, ...,  88.3   ,  87.82  ,  87.57  ],\n",
       "       [     nan,      nan,      nan, ..., 793.7   , 783.33  , 782.75  ],\n",
       "       [  4.32  ,   4.366 ,   4.474 , ...,  23.65  ,  24.155 ,  24.5   ]])\n",
       "Coordinates:\n",
       "  * Symbol   (Symbol) object 'AAPL' 'AMZN' 'BABA' 'GOOG' 'TCEHY'\n",
       "  * Date     (Date) datetime64[ns] 2010-01-01 2010-01-04 2010-01-05 ..."
      ]
     },
     "execution_count": 90,
     "metadata": {},
     "output_type": "execute_result"
    }
   ],
   "source": [
    "p.data_vars[\"Open\"]"
   ]
  },
  {
   "cell_type": "code",
   "execution_count": 91,
   "metadata": {},
   "outputs": [
    {
     "data": {
      "text/plain": [
       "<xarray.Dataset>\n",
       "Dimensions:  (Date: 1826, Symbol: 5)\n",
       "Coordinates:\n",
       "  * Symbol   (Symbol) object 'AAPL' 'AMZN' 'BABA' 'GOOG' 'TCEHY'\n",
       "  * Date     (Date) datetime64[ns] 2010-01-01 2010-01-04 2010-01-05 ...\n",
       "Data variables:\n",
       "    Close    (Symbol, Date) float64 30.1 30.57 30.63 30.14 30.08 30.28 30.02 ...\n",
       "    High     (Symbol, Date) float64 30.48 30.64 30.8 30.75 30.29 30.29 30.43 ...\n",
       "    Low      (Symbol, Date) float64 30.08 30.34 30.46 30.11 29.86 29.87 ...\n",
       "    Open     (Symbol, Date) float64 30.44 30.5 30.68 30.63 30.24 30.06 30.42 ...\n",
       "    Volume   (Symbol, Date) float64 0.0 1.234e+08 1.505e+08 1.38e+08 ..."
      ]
     },
     "execution_count": 91,
     "metadata": {},
     "output_type": "execute_result"
    }
   ],
   "source": [
    "p"
   ]
  },
  {
   "cell_type": "code",
   "execution_count": 94,
   "metadata": {},
   "outputs": [
    {
     "ename": "TypeError",
     "evalue": "can only lookup dictionaries from Dataset.loc",
     "output_type": "error",
     "traceback": [
      "\u001b[0;31m---------------------------------------------------------------------------\u001b[0m",
      "\u001b[0;31mTypeError\u001b[0m                                 Traceback (most recent call last)",
      "\u001b[0;32m<ipython-input-94-313f7ac07689>\u001b[0m in \u001b[0;36m<module>\u001b[0;34m()\u001b[0m\n\u001b[0;32m----> 1\u001b[0;31m \u001b[0mp\u001b[0m\u001b[0;34m.\u001b[0m\u001b[0mloc\u001b[0m\u001b[0;34m[\u001b[0m\u001b[0;34m\"AMZN\"\u001b[0m\u001b[0;34m,\u001b[0m \u001b[0;34m\"Close\"\u001b[0m\u001b[0;34m,\u001b[0m \u001b[0;34m\"2010-01-01\"\u001b[0m\u001b[0;34m]\u001b[0m\u001b[0;34m\u001b[0m\u001b[0m\n\u001b[0m",
      "\u001b[0;32m~/anaconda3/lib/python3.6/site-packages/xarray/core/dataset.py\u001b[0m in \u001b[0;36m__getitem__\u001b[0;34m(self, key)\u001b[0m\n\u001b[1;32m    295\u001b[0m     \u001b[0;32mdef\u001b[0m \u001b[0m__getitem__\u001b[0m\u001b[0;34m(\u001b[0m\u001b[0mself\u001b[0m\u001b[0;34m,\u001b[0m \u001b[0mkey\u001b[0m\u001b[0;34m)\u001b[0m\u001b[0;34m:\u001b[0m\u001b[0;34m\u001b[0m\u001b[0m\n\u001b[1;32m    296\u001b[0m         \u001b[0;32mif\u001b[0m \u001b[0;32mnot\u001b[0m \u001b[0mutils\u001b[0m\u001b[0;34m.\u001b[0m\u001b[0mis_dict_like\u001b[0m\u001b[0;34m(\u001b[0m\u001b[0mkey\u001b[0m\u001b[0;34m)\u001b[0m\u001b[0;34m:\u001b[0m\u001b[0;34m\u001b[0m\u001b[0m\n\u001b[0;32m--> 297\u001b[0;31m             \u001b[0;32mraise\u001b[0m \u001b[0mTypeError\u001b[0m\u001b[0;34m(\u001b[0m\u001b[0;34m'can only lookup dictionaries from Dataset.loc'\u001b[0m\u001b[0;34m)\u001b[0m\u001b[0;34m\u001b[0m\u001b[0m\n\u001b[0m\u001b[1;32m    298\u001b[0m         \u001b[0;32mreturn\u001b[0m \u001b[0mself\u001b[0m\u001b[0;34m.\u001b[0m\u001b[0mdataset\u001b[0m\u001b[0;34m.\u001b[0m\u001b[0msel\u001b[0m\u001b[0;34m(\u001b[0m\u001b[0;34m**\u001b[0m\u001b[0mkey\u001b[0m\u001b[0;34m)\u001b[0m\u001b[0;34m\u001b[0m\u001b[0m\n\u001b[1;32m    299\u001b[0m \u001b[0;34m\u001b[0m\u001b[0m\n",
      "\u001b[0;31mTypeError\u001b[0m: can only lookup dictionaries from Dataset.loc"
     ]
    }
   ],
   "source": [
    "p.loc[\"AMZN\", \"Close\", \"2010-01-01\"]"
   ]
  },
  {
   "cell_type": "code",
   "execution_count": null,
   "metadata": {},
   "outputs": [],
   "source": []
  },
  {
   "cell_type": "code",
   "execution_count": null,
   "metadata": {},
   "outputs": [],
   "source": []
  },
  {
   "cell_type": "code",
   "execution_count": null,
   "metadata": {},
   "outputs": [],
   "source": []
  },
  {
   "cell_type": "code",
   "execution_count": null,
   "metadata": {},
   "outputs": [],
   "source": []
  },
  {
   "cell_type": "code",
   "execution_count": null,
   "metadata": {},
   "outputs": [],
   "source": []
  },
  {
   "cell_type": "code",
   "execution_count": null,
   "metadata": {},
   "outputs": [],
   "source": []
  },
  {
   "cell_type": "code",
   "execution_count": null,
   "metadata": {},
   "outputs": [],
   "source": []
  },
  {
   "cell_type": "code",
   "execution_count": null,
   "metadata": {},
   "outputs": [],
   "source": []
  },
  {
   "cell_type": "markdown",
   "metadata": {},
   "source": [
    "## Extracting with the .loc[], .iloc[], and .ix[] Methods"
   ]
  },
  {
   "cell_type": "code",
   "execution_count": 12,
   "metadata": {},
   "outputs": [
    {
     "data": {
      "text/html": [
       "<div>\n",
       "<style scoped>\n",
       "    .dataframe tbody tr th:only-of-type {\n",
       "        vertical-align: middle;\n",
       "    }\n",
       "\n",
       "    .dataframe tbody tr th {\n",
       "        vertical-align: top;\n",
       "    }\n",
       "\n",
       "    .dataframe thead th {\n",
       "        text-align: right;\n",
       "    }\n",
       "</style>\n",
       "<table border=\"1\" class=\"dataframe\">\n",
       "  <thead>\n",
       "    <tr style=\"text-align: right;\">\n",
       "      <th></th>\n",
       "      <th></th>\n",
       "      <th>Close</th>\n",
       "      <th>High</th>\n",
       "      <th>Low</th>\n",
       "      <th>Open</th>\n",
       "      <th>Volume</th>\n",
       "    </tr>\n",
       "    <tr>\n",
       "      <th>Symbol</th>\n",
       "      <th>Date</th>\n",
       "      <th></th>\n",
       "      <th></th>\n",
       "      <th></th>\n",
       "      <th></th>\n",
       "      <th></th>\n",
       "    </tr>\n",
       "  </thead>\n",
       "  <tbody>\n",
       "    <tr>\n",
       "      <th rowspan=\"30\" valign=\"top\">TCEHY</th>\n",
       "      <th>2010-01-01</th>\n",
       "      <td>4.344</td>\n",
       "      <td>4.3660</td>\n",
       "      <td>4.320</td>\n",
       "      <td>4.320</td>\n",
       "      <td>0</td>\n",
       "    </tr>\n",
       "    <tr>\n",
       "      <th>2010-01-04</th>\n",
       "      <td>4.416</td>\n",
       "      <td>4.4160</td>\n",
       "      <td>4.366</td>\n",
       "      <td>4.366</td>\n",
       "      <td>61480</td>\n",
       "    </tr>\n",
       "    <tr>\n",
       "      <th>2010-01-05</th>\n",
       "      <td>4.452</td>\n",
       "      <td>4.4800</td>\n",
       "      <td>4.410</td>\n",
       "      <td>4.474</td>\n",
       "      <td>75690</td>\n",
       "    </tr>\n",
       "    <tr>\n",
       "      <th>2010-01-06</th>\n",
       "      <td>4.482</td>\n",
       "      <td>4.4820</td>\n",
       "      <td>4.470</td>\n",
       "      <td>4.480</td>\n",
       "      <td>56010</td>\n",
       "    </tr>\n",
       "    <tr>\n",
       "      <th>2010-01-07</th>\n",
       "      <td>4.300</td>\n",
       "      <td>4.3000</td>\n",
       "      <td>4.254</td>\n",
       "      <td>4.298</td>\n",
       "      <td>49355</td>\n",
       "    </tr>\n",
       "    <tr>\n",
       "      <th>2010-01-08</th>\n",
       "      <td>4.358</td>\n",
       "      <td>4.3600</td>\n",
       "      <td>4.290</td>\n",
       "      <td>4.290</td>\n",
       "      <td>25530</td>\n",
       "    </tr>\n",
       "    <tr>\n",
       "      <th>2010-01-11</th>\n",
       "      <td>4.444</td>\n",
       "      <td>4.4440</td>\n",
       "      <td>4.426</td>\n",
       "      <td>4.440</td>\n",
       "      <td>133540</td>\n",
       "    </tr>\n",
       "    <tr>\n",
       "      <th>2010-01-12</th>\n",
       "      <td>4.366</td>\n",
       "      <td>4.3900</td>\n",
       "      <td>4.330</td>\n",
       "      <td>4.390</td>\n",
       "      <td>66885</td>\n",
       "    </tr>\n",
       "    <tr>\n",
       "      <th>2010-01-13</th>\n",
       "      <td>4.450</td>\n",
       "      <td>4.4500</td>\n",
       "      <td>4.370</td>\n",
       "      <td>4.370</td>\n",
       "      <td>34810</td>\n",
       "    </tr>\n",
       "    <tr>\n",
       "      <th>2010-01-14</th>\n",
       "      <td>4.488</td>\n",
       "      <td>4.5000</td>\n",
       "      <td>4.470</td>\n",
       "      <td>4.490</td>\n",
       "      <td>271200</td>\n",
       "    </tr>\n",
       "    <tr>\n",
       "      <th>2010-01-15</th>\n",
       "      <td>4.510</td>\n",
       "      <td>4.5540</td>\n",
       "      <td>4.468</td>\n",
       "      <td>4.520</td>\n",
       "      <td>69715</td>\n",
       "    </tr>\n",
       "    <tr>\n",
       "      <th>2010-01-18</th>\n",
       "      <td>4.510</td>\n",
       "      <td>4.5540</td>\n",
       "      <td>4.468</td>\n",
       "      <td>4.520</td>\n",
       "      <td>0</td>\n",
       "    </tr>\n",
       "    <tr>\n",
       "      <th>2010-01-19</th>\n",
       "      <td>4.224</td>\n",
       "      <td>4.2260</td>\n",
       "      <td>4.130</td>\n",
       "      <td>4.190</td>\n",
       "      <td>164935</td>\n",
       "    </tr>\n",
       "    <tr>\n",
       "      <th>2010-01-20</th>\n",
       "      <td>3.960</td>\n",
       "      <td>4.0320</td>\n",
       "      <td>3.924</td>\n",
       "      <td>4.020</td>\n",
       "      <td>1448225</td>\n",
       "    </tr>\n",
       "    <tr>\n",
       "      <th>2010-01-21</th>\n",
       "      <td>3.900</td>\n",
       "      <td>3.9280</td>\n",
       "      <td>3.900</td>\n",
       "      <td>3.928</td>\n",
       "      <td>61355</td>\n",
       "    </tr>\n",
       "    <tr>\n",
       "      <th>2010-01-22</th>\n",
       "      <td>3.770</td>\n",
       "      <td>3.8800</td>\n",
       "      <td>3.770</td>\n",
       "      <td>3.878</td>\n",
       "      <td>291455</td>\n",
       "    </tr>\n",
       "    <tr>\n",
       "      <th>2010-01-25</th>\n",
       "      <td>3.872</td>\n",
       "      <td>3.8720</td>\n",
       "      <td>3.792</td>\n",
       "      <td>3.792</td>\n",
       "      <td>229990</td>\n",
       "    </tr>\n",
       "    <tr>\n",
       "      <th>2010-01-26</th>\n",
       "      <td>3.690</td>\n",
       "      <td>3.7300</td>\n",
       "      <td>3.690</td>\n",
       "      <td>3.700</td>\n",
       "      <td>72785</td>\n",
       "    </tr>\n",
       "    <tr>\n",
       "      <th>2010-01-27</th>\n",
       "      <td>3.630</td>\n",
       "      <td>3.6680</td>\n",
       "      <td>3.600</td>\n",
       "      <td>3.668</td>\n",
       "      <td>89835</td>\n",
       "    </tr>\n",
       "    <tr>\n",
       "      <th>2010-01-28</th>\n",
       "      <td>3.700</td>\n",
       "      <td>3.7780</td>\n",
       "      <td>3.698</td>\n",
       "      <td>3.710</td>\n",
       "      <td>173770</td>\n",
       "    </tr>\n",
       "    <tr>\n",
       "      <th>2010-01-29</th>\n",
       "      <td>3.760</td>\n",
       "      <td>3.7800</td>\n",
       "      <td>3.722</td>\n",
       "      <td>3.778</td>\n",
       "      <td>26685</td>\n",
       "    </tr>\n",
       "    <tr>\n",
       "      <th>2010-02-01</th>\n",
       "      <td>3.660</td>\n",
       "      <td>3.6920</td>\n",
       "      <td>3.660</td>\n",
       "      <td>3.678</td>\n",
       "      <td>37825</td>\n",
       "    </tr>\n",
       "    <tr>\n",
       "      <th>2010-02-02</th>\n",
       "      <td>3.710</td>\n",
       "      <td>3.7100</td>\n",
       "      <td>3.662</td>\n",
       "      <td>3.662</td>\n",
       "      <td>26240</td>\n",
       "    </tr>\n",
       "    <tr>\n",
       "      <th>2010-02-03</th>\n",
       "      <td>3.894</td>\n",
       "      <td>3.9040</td>\n",
       "      <td>3.850</td>\n",
       "      <td>3.904</td>\n",
       "      <td>37730</td>\n",
       "    </tr>\n",
       "    <tr>\n",
       "      <th>2010-02-04</th>\n",
       "      <td>3.642</td>\n",
       "      <td>3.7860</td>\n",
       "      <td>3.642</td>\n",
       "      <td>3.786</td>\n",
       "      <td>134175</td>\n",
       "    </tr>\n",
       "    <tr>\n",
       "      <th>2010-02-05</th>\n",
       "      <td>3.518</td>\n",
       "      <td>3.5960</td>\n",
       "      <td>3.500</td>\n",
       "      <td>3.596</td>\n",
       "      <td>302315</td>\n",
       "    </tr>\n",
       "    <tr>\n",
       "      <th>2010-02-08</th>\n",
       "      <td>3.514</td>\n",
       "      <td>3.5780</td>\n",
       "      <td>3.514</td>\n",
       "      <td>3.578</td>\n",
       "      <td>97310</td>\n",
       "    </tr>\n",
       "    <tr>\n",
       "      <th>2010-02-09</th>\n",
       "      <td>3.510</td>\n",
       "      <td>3.5100</td>\n",
       "      <td>3.490</td>\n",
       "      <td>3.492</td>\n",
       "      <td>31010</td>\n",
       "    </tr>\n",
       "    <tr>\n",
       "      <th>2010-02-10</th>\n",
       "      <td>3.588</td>\n",
       "      <td>3.5880</td>\n",
       "      <td>3.530</td>\n",
       "      <td>3.554</td>\n",
       "      <td>94875</td>\n",
       "    </tr>\n",
       "    <tr>\n",
       "      <th>2010-02-11</th>\n",
       "      <td>3.768</td>\n",
       "      <td>3.7680</td>\n",
       "      <td>3.712</td>\n",
       "      <td>3.712</td>\n",
       "      <td>40145</td>\n",
       "    </tr>\n",
       "    <tr>\n",
       "      <th>...</th>\n",
       "      <th>...</th>\n",
       "      <td>...</td>\n",
       "      <td>...</td>\n",
       "      <td>...</td>\n",
       "      <td>...</td>\n",
       "      <td>...</td>\n",
       "    </tr>\n",
       "    <tr>\n",
       "      <th rowspan=\"30\" valign=\"top\">AMZN</th>\n",
       "      <th>2016-11-21</th>\n",
       "      <td>780.000</td>\n",
       "      <td>780.3500</td>\n",
       "      <td>765.110</td>\n",
       "      <td>766.000</td>\n",
       "      <td>4614574</td>\n",
       "    </tr>\n",
       "    <tr>\n",
       "      <th>2016-11-22</th>\n",
       "      <td>785.330</td>\n",
       "      <td>792.4000</td>\n",
       "      <td>781.000</td>\n",
       "      <td>788.170</td>\n",
       "      <td>5311320</td>\n",
       "    </tr>\n",
       "    <tr>\n",
       "      <th>2016-11-23</th>\n",
       "      <td>780.120</td>\n",
       "      <td>781.7500</td>\n",
       "      <td>773.120</td>\n",
       "      <td>781.730</td>\n",
       "      <td>3540263</td>\n",
       "    </tr>\n",
       "    <tr>\n",
       "      <th>2016-11-24</th>\n",
       "      <td>780.120</td>\n",
       "      <td>780.1200</td>\n",
       "      <td>780.120</td>\n",
       "      <td>780.120</td>\n",
       "      <td>0</td>\n",
       "    </tr>\n",
       "    <tr>\n",
       "      <th>2016-11-25</th>\n",
       "      <td>780.370</td>\n",
       "      <td>786.7500</td>\n",
       "      <td>777.900</td>\n",
       "      <td>786.500</td>\n",
       "      <td>1837068</td>\n",
       "    </tr>\n",
       "    <tr>\n",
       "      <th>2016-11-28</th>\n",
       "      <td>766.770</td>\n",
       "      <td>777.0000</td>\n",
       "      <td>764.240</td>\n",
       "      <td>776.990</td>\n",
       "      <td>4438828</td>\n",
       "    </tr>\n",
       "    <tr>\n",
       "      <th>2016-11-29</th>\n",
       "      <td>762.520</td>\n",
       "      <td>769.8900</td>\n",
       "      <td>761.320</td>\n",
       "      <td>768.000</td>\n",
       "      <td>3272344</td>\n",
       "    </tr>\n",
       "    <tr>\n",
       "      <th>2016-11-30</th>\n",
       "      <td>750.570</td>\n",
       "      <td>768.0900</td>\n",
       "      <td>750.250</td>\n",
       "      <td>762.000</td>\n",
       "      <td>4625946</td>\n",
       "    </tr>\n",
       "    <tr>\n",
       "      <th>2016-12-01</th>\n",
       "      <td>743.650</td>\n",
       "      <td>753.3700</td>\n",
       "      <td>738.030</td>\n",
       "      <td>752.410</td>\n",
       "      <td>4665993</td>\n",
       "    </tr>\n",
       "    <tr>\n",
       "      <th>2016-12-02</th>\n",
       "      <td>740.340</td>\n",
       "      <td>748.4903</td>\n",
       "      <td>736.700</td>\n",
       "      <td>743.400</td>\n",
       "      <td>3561307</td>\n",
       "    </tr>\n",
       "    <tr>\n",
       "      <th>2016-12-05</th>\n",
       "      <td>759.360</td>\n",
       "      <td>761.4900</td>\n",
       "      <td>742.000</td>\n",
       "      <td>745.000</td>\n",
       "      <td>4314723</td>\n",
       "    </tr>\n",
       "    <tr>\n",
       "      <th>2016-12-06</th>\n",
       "      <td>764.720</td>\n",
       "      <td>768.2400</td>\n",
       "      <td>757.250</td>\n",
       "      <td>763.990</td>\n",
       "      <td>3794746</td>\n",
       "    </tr>\n",
       "    <tr>\n",
       "      <th>2016-12-07</th>\n",
       "      <td>770.420</td>\n",
       "      <td>770.4200</td>\n",
       "      <td>755.820</td>\n",
       "      <td>764.550</td>\n",
       "      <td>3684906</td>\n",
       "    </tr>\n",
       "    <tr>\n",
       "      <th>2016-12-08</th>\n",
       "      <td>767.330</td>\n",
       "      <td>773.7900</td>\n",
       "      <td>765.190</td>\n",
       "      <td>771.870</td>\n",
       "      <td>3189608</td>\n",
       "    </tr>\n",
       "    <tr>\n",
       "      <th>2016-12-09</th>\n",
       "      <td>768.660</td>\n",
       "      <td>770.2500</td>\n",
       "      <td>765.340</td>\n",
       "      <td>770.000</td>\n",
       "      <td>2470923</td>\n",
       "    </tr>\n",
       "    <tr>\n",
       "      <th>2016-12-12</th>\n",
       "      <td>760.120</td>\n",
       "      <td>766.8900</td>\n",
       "      <td>757.200</td>\n",
       "      <td>766.400</td>\n",
       "      <td>2963945</td>\n",
       "    </tr>\n",
       "    <tr>\n",
       "      <th>2016-12-13</th>\n",
       "      <td>774.340</td>\n",
       "      <td>782.4600</td>\n",
       "      <td>762.000</td>\n",
       "      <td>764.960</td>\n",
       "      <td>5285288</td>\n",
       "    </tr>\n",
       "    <tr>\n",
       "      <th>2016-12-14</th>\n",
       "      <td>768.820</td>\n",
       "      <td>780.8600</td>\n",
       "      <td>762.810</td>\n",
       "      <td>778.250</td>\n",
       "      <td>5454836</td>\n",
       "    </tr>\n",
       "    <tr>\n",
       "      <th>2016-12-15</th>\n",
       "      <td>761.000</td>\n",
       "      <td>769.1000</td>\n",
       "      <td>760.310</td>\n",
       "      <td>766.280</td>\n",
       "      <td>3801927</td>\n",
       "    </tr>\n",
       "    <tr>\n",
       "      <th>2016-12-16</th>\n",
       "      <td>757.770</td>\n",
       "      <td>765.1300</td>\n",
       "      <td>754.000</td>\n",
       "      <td>765.000</td>\n",
       "      <td>4848219</td>\n",
       "    </tr>\n",
       "    <tr>\n",
       "      <th>2016-12-19</th>\n",
       "      <td>766.000</td>\n",
       "      <td>770.5000</td>\n",
       "      <td>756.160</td>\n",
       "      <td>758.890</td>\n",
       "      <td>3113240</td>\n",
       "    </tr>\n",
       "    <tr>\n",
       "      <th>2016-12-20</th>\n",
       "      <td>771.220</td>\n",
       "      <td>774.3900</td>\n",
       "      <td>767.710</td>\n",
       "      <td>768.650</td>\n",
       "      <td>2703629</td>\n",
       "    </tr>\n",
       "    <tr>\n",
       "      <th>2016-12-21</th>\n",
       "      <td>770.600</td>\n",
       "      <td>771.2200</td>\n",
       "      <td>765.700</td>\n",
       "      <td>770.000</td>\n",
       "      <td>2044629</td>\n",
       "    </tr>\n",
       "    <tr>\n",
       "      <th>2016-12-22</th>\n",
       "      <td>766.340</td>\n",
       "      <td>771.2100</td>\n",
       "      <td>763.020</td>\n",
       "      <td>768.120</td>\n",
       "      <td>2543551</td>\n",
       "    </tr>\n",
       "    <tr>\n",
       "      <th>2016-12-23</th>\n",
       "      <td>760.590</td>\n",
       "      <td>766.5000</td>\n",
       "      <td>757.990</td>\n",
       "      <td>764.550</td>\n",
       "      <td>1981616</td>\n",
       "    </tr>\n",
       "    <tr>\n",
       "      <th>2016-12-26</th>\n",
       "      <td>760.590</td>\n",
       "      <td>760.5900</td>\n",
       "      <td>760.590</td>\n",
       "      <td>760.590</td>\n",
       "      <td>0</td>\n",
       "    </tr>\n",
       "    <tr>\n",
       "      <th>2016-12-27</th>\n",
       "      <td>771.400</td>\n",
       "      <td>774.6500</td>\n",
       "      <td>761.200</td>\n",
       "      <td>763.400</td>\n",
       "      <td>2638725</td>\n",
       "    </tr>\n",
       "    <tr>\n",
       "      <th>2016-12-28</th>\n",
       "      <td>772.130</td>\n",
       "      <td>780.0000</td>\n",
       "      <td>770.500</td>\n",
       "      <td>776.250</td>\n",
       "      <td>3301025</td>\n",
       "    </tr>\n",
       "    <tr>\n",
       "      <th>2016-12-29</th>\n",
       "      <td>765.150</td>\n",
       "      <td>773.4000</td>\n",
       "      <td>760.850</td>\n",
       "      <td>772.400</td>\n",
       "      <td>3158299</td>\n",
       "    </tr>\n",
       "    <tr>\n",
       "      <th>2016-12-30</th>\n",
       "      <td>749.870</td>\n",
       "      <td>767.3999</td>\n",
       "      <td>748.280</td>\n",
       "      <td>766.470</td>\n",
       "      <td>4139449</td>\n",
       "    </tr>\n",
       "  </tbody>\n",
       "</table>\n",
       "<p>6796 rows × 5 columns</p>\n",
       "</div>"
      ],
      "text/plain": [
       "                     Close      High      Low     Open   Volume\n",
       "Symbol Date                                                    \n",
       "TCEHY  2010-01-01    4.344    4.3660    4.320    4.320        0\n",
       "       2010-01-04    4.416    4.4160    4.366    4.366    61480\n",
       "       2010-01-05    4.452    4.4800    4.410    4.474    75690\n",
       "       2010-01-06    4.482    4.4820    4.470    4.480    56010\n",
       "       2010-01-07    4.300    4.3000    4.254    4.298    49355\n",
       "       2010-01-08    4.358    4.3600    4.290    4.290    25530\n",
       "       2010-01-11    4.444    4.4440    4.426    4.440   133540\n",
       "       2010-01-12    4.366    4.3900    4.330    4.390    66885\n",
       "       2010-01-13    4.450    4.4500    4.370    4.370    34810\n",
       "       2010-01-14    4.488    4.5000    4.470    4.490   271200\n",
       "       2010-01-15    4.510    4.5540    4.468    4.520    69715\n",
       "       2010-01-18    4.510    4.5540    4.468    4.520        0\n",
       "       2010-01-19    4.224    4.2260    4.130    4.190   164935\n",
       "       2010-01-20    3.960    4.0320    3.924    4.020  1448225\n",
       "       2010-01-21    3.900    3.9280    3.900    3.928    61355\n",
       "       2010-01-22    3.770    3.8800    3.770    3.878   291455\n",
       "       2010-01-25    3.872    3.8720    3.792    3.792   229990\n",
       "       2010-01-26    3.690    3.7300    3.690    3.700    72785\n",
       "       2010-01-27    3.630    3.6680    3.600    3.668    89835\n",
       "       2010-01-28    3.700    3.7780    3.698    3.710   173770\n",
       "       2010-01-29    3.760    3.7800    3.722    3.778    26685\n",
       "       2010-02-01    3.660    3.6920    3.660    3.678    37825\n",
       "       2010-02-02    3.710    3.7100    3.662    3.662    26240\n",
       "       2010-02-03    3.894    3.9040    3.850    3.904    37730\n",
       "       2010-02-04    3.642    3.7860    3.642    3.786   134175\n",
       "       2010-02-05    3.518    3.5960    3.500    3.596   302315\n",
       "       2010-02-08    3.514    3.5780    3.514    3.578    97310\n",
       "       2010-02-09    3.510    3.5100    3.490    3.492    31010\n",
       "       2010-02-10    3.588    3.5880    3.530    3.554    94875\n",
       "       2010-02-11    3.768    3.7680    3.712    3.712    40145\n",
       "...                    ...       ...      ...      ...      ...\n",
       "AMZN   2016-11-21  780.000  780.3500  765.110  766.000  4614574\n",
       "       2016-11-22  785.330  792.4000  781.000  788.170  5311320\n",
       "       2016-11-23  780.120  781.7500  773.120  781.730  3540263\n",
       "       2016-11-24  780.120  780.1200  780.120  780.120        0\n",
       "       2016-11-25  780.370  786.7500  777.900  786.500  1837068\n",
       "       2016-11-28  766.770  777.0000  764.240  776.990  4438828\n",
       "       2016-11-29  762.520  769.8900  761.320  768.000  3272344\n",
       "       2016-11-30  750.570  768.0900  750.250  762.000  4625946\n",
       "       2016-12-01  743.650  753.3700  738.030  752.410  4665993\n",
       "       2016-12-02  740.340  748.4903  736.700  743.400  3561307\n",
       "       2016-12-05  759.360  761.4900  742.000  745.000  4314723\n",
       "       2016-12-06  764.720  768.2400  757.250  763.990  3794746\n",
       "       2016-12-07  770.420  770.4200  755.820  764.550  3684906\n",
       "       2016-12-08  767.330  773.7900  765.190  771.870  3189608\n",
       "       2016-12-09  768.660  770.2500  765.340  770.000  2470923\n",
       "       2016-12-12  760.120  766.8900  757.200  766.400  2963945\n",
       "       2016-12-13  774.340  782.4600  762.000  764.960  5285288\n",
       "       2016-12-14  768.820  780.8600  762.810  778.250  5454836\n",
       "       2016-12-15  761.000  769.1000  760.310  766.280  3801927\n",
       "       2016-12-16  757.770  765.1300  754.000  765.000  4848219\n",
       "       2016-12-19  766.000  770.5000  756.160  758.890  3113240\n",
       "       2016-12-20  771.220  774.3900  767.710  768.650  2703629\n",
       "       2016-12-21  770.600  771.2200  765.700  770.000  2044629\n",
       "       2016-12-22  766.340  771.2100  763.020  768.120  2543551\n",
       "       2016-12-23  760.590  766.5000  757.990  764.550  1981616\n",
       "       2016-12-26  760.590  760.5900  760.590  760.590        0\n",
       "       2016-12-27  771.400  774.6500  761.200  763.400  2638725\n",
       "       2016-12-28  772.130  780.0000  770.500  776.250  3301025\n",
       "       2016-12-29  765.150  773.4000  760.850  772.400  3158299\n",
       "       2016-12-30  749.870  767.3999  748.280  766.470  4139449\n",
       "\n",
       "[6796 rows x 5 columns]"
      ]
     },
     "execution_count": 12,
     "metadata": {},
     "output_type": "execute_result"
    }
   ],
   "source": [
    "companies = [\"TCEHY\", \"BABA\", \"GOOG\", \"AAPL\", \"AMZN\"]\n",
    "\n",
    "p = web.DataReader(name = companies, data_source = \"morningstar\",\n",
    "               start = \"2010-01-01\", end = \"2016-12-31\")\n",
    "\n",
    "p"
   ]
  },
  {
   "cell_type": "code",
   "execution_count": 16,
   "metadata": {},
   "outputs": [
    {
     "name": "stdout",
     "output_type": "stream",
     "text": [
      "<class 'pandas.core.frame.DataFrame'>\n",
      "MultiIndex: 6796 entries, (TCEHY, 2010-01-01 00:00:00) to (AMZN, 2016-12-30 00:00:00)\n",
      "Data columns (total 5 columns):\n",
      "Close     6796 non-null float64\n",
      "High      6796 non-null float64\n",
      "Low       6796 non-null float64\n",
      "Open      6796 non-null float64\n",
      "Volume    6796 non-null int64\n",
      "dtypes: float64(4), int64(1)\n",
      "memory usage: 299.8+ KB\n"
     ]
    }
   ],
   "source": [
    "p.describe\n",
    "p.info()"
   ]
  },
  {
   "cell_type": "code",
   "execution_count": 18,
   "metadata": {},
   "outputs": [
    {
     "data": {
      "text/plain": [
       "<bound method DataFrame.iteritems of                      Close      High      Low     Open   Volume\n",
       "Symbol Date                                                    \n",
       "TCEHY  2010-01-01    4.344    4.3660    4.320    4.320        0\n",
       "       2010-01-04    4.416    4.4160    4.366    4.366    61480\n",
       "       2010-01-05    4.452    4.4800    4.410    4.474    75690\n",
       "       2010-01-06    4.482    4.4820    4.470    4.480    56010\n",
       "       2010-01-07    4.300    4.3000    4.254    4.298    49355\n",
       "       2010-01-08    4.358    4.3600    4.290    4.290    25530\n",
       "       2010-01-11    4.444    4.4440    4.426    4.440   133540\n",
       "       2010-01-12    4.366    4.3900    4.330    4.390    66885\n",
       "       2010-01-13    4.450    4.4500    4.370    4.370    34810\n",
       "       2010-01-14    4.488    4.5000    4.470    4.490   271200\n",
       "       2010-01-15    4.510    4.5540    4.468    4.520    69715\n",
       "       2010-01-18    4.510    4.5540    4.468    4.520        0\n",
       "       2010-01-19    4.224    4.2260    4.130    4.190   164935\n",
       "       2010-01-20    3.960    4.0320    3.924    4.020  1448225\n",
       "       2010-01-21    3.900    3.9280    3.900    3.928    61355\n",
       "       2010-01-22    3.770    3.8800    3.770    3.878   291455\n",
       "       2010-01-25    3.872    3.8720    3.792    3.792   229990\n",
       "       2010-01-26    3.690    3.7300    3.690    3.700    72785\n",
       "       2010-01-27    3.630    3.6680    3.600    3.668    89835\n",
       "       2010-01-28    3.700    3.7780    3.698    3.710   173770\n",
       "       2010-01-29    3.760    3.7800    3.722    3.778    26685\n",
       "       2010-02-01    3.660    3.6920    3.660    3.678    37825\n",
       "       2010-02-02    3.710    3.7100    3.662    3.662    26240\n",
       "       2010-02-03    3.894    3.9040    3.850    3.904    37730\n",
       "       2010-02-04    3.642    3.7860    3.642    3.786   134175\n",
       "       2010-02-05    3.518    3.5960    3.500    3.596   302315\n",
       "       2010-02-08    3.514    3.5780    3.514    3.578    97310\n",
       "       2010-02-09    3.510    3.5100    3.490    3.492    31010\n",
       "       2010-02-10    3.588    3.5880    3.530    3.554    94875\n",
       "       2010-02-11    3.768    3.7680    3.712    3.712    40145\n",
       "...                    ...       ...      ...      ...      ...\n",
       "AMZN   2016-11-21  780.000  780.3500  765.110  766.000  4614574\n",
       "       2016-11-22  785.330  792.4000  781.000  788.170  5311320\n",
       "       2016-11-23  780.120  781.7500  773.120  781.730  3540263\n",
       "       2016-11-24  780.120  780.1200  780.120  780.120        0\n",
       "       2016-11-25  780.370  786.7500  777.900  786.500  1837068\n",
       "       2016-11-28  766.770  777.0000  764.240  776.990  4438828\n",
       "       2016-11-29  762.520  769.8900  761.320  768.000  3272344\n",
       "       2016-11-30  750.570  768.0900  750.250  762.000  4625946\n",
       "       2016-12-01  743.650  753.3700  738.030  752.410  4665993\n",
       "       2016-12-02  740.340  748.4903  736.700  743.400  3561307\n",
       "       2016-12-05  759.360  761.4900  742.000  745.000  4314723\n",
       "       2016-12-06  764.720  768.2400  757.250  763.990  3794746\n",
       "       2016-12-07  770.420  770.4200  755.820  764.550  3684906\n",
       "       2016-12-08  767.330  773.7900  765.190  771.870  3189608\n",
       "       2016-12-09  768.660  770.2500  765.340  770.000  2470923\n",
       "       2016-12-12  760.120  766.8900  757.200  766.400  2963945\n",
       "       2016-12-13  774.340  782.4600  762.000  764.960  5285288\n",
       "       2016-12-14  768.820  780.8600  762.810  778.250  5454836\n",
       "       2016-12-15  761.000  769.1000  760.310  766.280  3801927\n",
       "       2016-12-16  757.770  765.1300  754.000  765.000  4848219\n",
       "       2016-12-19  766.000  770.5000  756.160  758.890  3113240\n",
       "       2016-12-20  771.220  774.3900  767.710  768.650  2703629\n",
       "       2016-12-21  770.600  771.2200  765.700  770.000  2044629\n",
       "       2016-12-22  766.340  771.2100  763.020  768.120  2543551\n",
       "       2016-12-23  760.590  766.5000  757.990  764.550  1981616\n",
       "       2016-12-26  760.590  760.5900  760.590  760.590        0\n",
       "       2016-12-27  771.400  774.6500  761.200  763.400  2638725\n",
       "       2016-12-28  772.130  780.0000  770.500  776.250  3301025\n",
       "       2016-12-29  765.150  773.4000  760.850  772.400  3158299\n",
       "       2016-12-30  749.870  767.3999  748.280  766.470  4139449\n",
       "\n",
       "[6796 rows x 5 columns]>"
      ]
     },
     "execution_count": 18,
     "metadata": {},
     "output_type": "execute_result"
    }
   ],
   "source": [
    "p.items"
   ]
  },
  {
   "cell_type": "code",
   "execution_count": 25,
   "metadata": {},
   "outputs": [
    {
     "data": {
      "text/plain": [
       "4.488"
      ]
     },
     "execution_count": 25,
     "metadata": {},
     "output_type": "execute_result"
    }
   ],
   "source": [
    "p.loc[\"TCEHY\", \"Close\"][\"2010-01-14\"]"
   ]
  },
  {
   "cell_type": "code",
   "execution_count": null,
   "metadata": {},
   "outputs": [],
   "source": []
  },
  {
   "cell_type": "code",
   "execution_count": null,
   "metadata": {},
   "outputs": [],
   "source": []
  },
  {
   "cell_type": "code",
   "execution_count": null,
   "metadata": {},
   "outputs": [],
   "source": []
  },
  {
   "cell_type": "code",
   "execution_count": null,
   "metadata": {},
   "outputs": [],
   "source": []
  },
  {
   "cell_type": "code",
   "execution_count": null,
   "metadata": {},
   "outputs": [],
   "source": []
  },
  {
   "cell_type": "code",
   "execution_count": null,
   "metadata": {},
   "outputs": [],
   "source": []
  },
  {
   "cell_type": "code",
   "execution_count": null,
   "metadata": {},
   "outputs": [],
   "source": []
  },
  {
   "cell_type": "code",
   "execution_count": null,
   "metadata": {},
   "outputs": [],
   "source": []
  },
  {
   "cell_type": "code",
   "execution_count": null,
   "metadata": {},
   "outputs": [],
   "source": []
  },
  {
   "cell_type": "code",
   "execution_count": null,
   "metadata": {},
   "outputs": [],
   "source": []
  },
  {
   "cell_type": "code",
   "execution_count": null,
   "metadata": {},
   "outputs": [],
   "source": []
  },
  {
   "cell_type": "code",
   "execution_count": null,
   "metadata": {},
   "outputs": [],
   "source": []
  },
  {
   "cell_type": "code",
   "execution_count": null,
   "metadata": {},
   "outputs": [],
   "source": []
  },
  {
   "cell_type": "code",
   "execution_count": null,
   "metadata": {},
   "outputs": [],
   "source": []
  }
 ],
 "metadata": {
  "kernelspec": {
   "display_name": "Python 3",
   "language": "python",
   "name": "python3"
  },
  "language_info": {
   "codemirror_mode": {
    "name": "ipython",
    "version": 3
   },
   "file_extension": ".py",
   "mimetype": "text/x-python",
   "name": "python",
   "nbconvert_exporter": "python",
   "pygments_lexer": "ipython3",
   "version": "3.6.4"
  }
 },
 "nbformat": 4,
 "nbformat_minor": 2
}
